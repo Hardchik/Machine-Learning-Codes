{
 "cells": [
  {
   "cell_type": "markdown",
   "metadata": {},
   "source": [
    "# <span style='color:Blue'> MARKET BASKET ANALYSIS USING APRIORI ALGORITHM"
   ]
  },
  {
   "cell_type": "markdown",
   "metadata": {},
   "source": [
    "<span style='background :#e6eeff' >All of us have done e-shopping right? We go to the site for buying a particular thing and come out with a lot more than what we wished to buy, right? Ever thought how the retailers manage to tempT us into buying stuff that we actually did not intend to buy in the first place?\n",
    "\n",
    "<span style='color:Blue'>Let's uncover the secret today."
   ]
  },
  {
   "cell_type": "markdown",
   "metadata": {},
   "source": [
    "<span style='background :#ffe6f0' >We live in the era of e-commerce and digital marketing, We hav even small scale businesses going online as the opportunities are endless. \n",
    "\n",
    "<span style='background :#ffe6f0' >Since a huge chunk of the people who have access to internet is switching to onlline shopping, large retailers are actively searching for ways to increase their profit."
   ]
  },
  {
   "cell_type": "markdown",
   "metadata": {},
   "source": [
    "<span style='background :#e6eeff' >Market Basket analysis is one such key techniques used by large retailers to uncover relationships between items, which can in turn help them make profit:\n",
    "\n",
    "<span style='color:Blue'>Still Confused ?\n",
    "\n",
    "Let me try and make it clear with an example:\n",
    "\n",
    "<span style='background :#ffe6f0' >Customers who buy bread are more likely to buy jam as well, similarly people who buy laptops are likely to buy laptop bags as well. Finding these kind of relationships between items and ensuring that they are placed correctly in the market recommendations so that the chance of the purchase of the second item is effectively increased.\n",
    "\n",
    "<span style='background :#ffe6f0' >Now lets say we find out that people who buy bread buy jam most of the time, how can we make them buy a third item say eggs? what if we place an offer that they can't deny?\n",
    "Lets give them a discount of 30% on eggs, they will be tempted to buy the eggs right?\n",
    "\n",
    "<span style='background :#ffe6f0' >This is how the market basket analysis work, we find relationships between items so that the retailers can make necessary arrangements and offers to ensure that the person who is buying one item buys the related items as well.\n",
    "\n",
    "\n",
    "<span style='color:Blue'>Hope this makes sense."
   ]
  },
  {
   "cell_type": "markdown",
   "metadata": {},
   "source": [
    "### <span style='color:Blue'> Now lets talk about Association rule mining"
   ]
  },
  {
   "cell_type": "markdown",
   "metadata": {},
   "source": [
    "<span style='background :#e6eeff' >Association rule mining is a technique to identify frequent patterns and associations among a set of items.\n",
    "\n",
    "<span style='background :#e6eeff' >For example, understanding customer buying habits. By finding correlations and associations between different items that customers place in their ‘shopping basket,’ recurring patterns can be derived.\n",
    "\n",
    " <span style='color:Blue'>Think of this in terms of the bread jam example."
   ]
  },
  {
   "cell_type": "markdown",
   "metadata": {},
   "source": [
    "<span style='background :#e6eeff' >To implement association rule mining, many algorithms have been developed. Apriori algorithm is one of the most popular and arguably the most efficient algorithms among them. Let us discuss what an Apriori algorithm is."
   ]
  },
  {
   "cell_type": "markdown",
   "metadata": {},
   "source": [
    "###  <span style='color:Blue'>What Is an Apriori Algorithm?"
   ]
  },
  {
   "cell_type": "markdown",
   "metadata": {},
   "source": [
    "<span style='background :#e6eeff' >Apriori algorithm assumes that any subset of a frequent itemset must be frequent.\n",
    "\n",
    "<span style='color:Blue'>Understood? No? Lets try and understand with an example.\n",
    "\n",
    "<span style='background :#e6eeff' >Say, a transaction containing {bread,jam,eggs} also contains {bread,jam}. So, according to the principle of Apriori, if {bread,jam,eggs} is frequent, then {bread,jam} must also be frequent."
   ]
  },
  {
   "cell_type": "markdown",
   "metadata": {},
   "source": [
    "### <span style='color:Blue'> How Does the Apriori Algorithm Work?"
   ]
  },
  {
   "cell_type": "markdown",
   "metadata": {},
   "source": [
    "<span style='background :#e6eeff' >The key concept in the Apriori algorithm is that it assumes all subsets of a frequent itemset to be frequent. Similarly, for any infrequent itemset, all its supersets must also be infrequent."
   ]
  },
  {
   "cell_type": "markdown",
   "metadata": {},
   "source": [
    "<span style='background :#e6eeff' >Let us try and understand the working of an Apriori algorithm with the help of a very famous business scenario, market basket analysis. "
   ]
  },
  {
   "cell_type": "markdown",
   "metadata": {},
   "source": [
    "### <span style='color:Blue'> What is the main goal of market basket analysis?"
   ]
  },
  {
   "cell_type": "markdown",
   "metadata": {},
   "source": [
    "The main goal of market basket analysis in marketing is to provide the retailer with the information necessary to understand the buyer’s purchasing behaviour."
   ]
  },
  {
   "cell_type": "code",
   "execution_count": 1,
   "metadata": {},
   "outputs": [
    {
     "ename": "ModuleNotFoundError",
     "evalue": "No module named 'pandas'",
     "output_type": "error",
     "traceback": [
      "\u001b[1;31m---------------------------------------------------------------------------\u001b[0m",
      "\u001b[1;31mModuleNotFoundError\u001b[0m                       Traceback (most recent call last)",
      "\u001b[1;32m<ipython-input-1-8a0e15bd9ff8>\u001b[0m in \u001b[0;36m<module>\u001b[1;34m\u001b[0m\n\u001b[1;32m----> 1\u001b[1;33m \u001b[1;32mimport\u001b[0m \u001b[0mpandas\u001b[0m \u001b[1;32mas\u001b[0m \u001b[0mpd\u001b[0m\u001b[1;33m\u001b[0m\u001b[1;33m\u001b[0m\u001b[0m\n\u001b[0m\u001b[0;32m      2\u001b[0m \u001b[0mdata\u001b[0m \u001b[1;33m=\u001b[0m \u001b[1;33m[\u001b[0m\u001b[1;33m[\u001b[0m\u001b[1;36m1\u001b[0m\u001b[1;33m,\u001b[0m \u001b[1;36m1\u001b[0m\u001b[1;33m,\u001b[0m\u001b[1;36m1\u001b[0m\u001b[1;33m,\u001b[0m\u001b[1;36m1\u001b[0m\u001b[1;33m]\u001b[0m\u001b[1;33m,\u001b[0m \u001b[1;33m[\u001b[0m\u001b[1;36m1\u001b[0m\u001b[1;33m,\u001b[0m\u001b[1;36m0\u001b[0m\u001b[1;33m,\u001b[0m\u001b[1;36m1\u001b[0m\u001b[1;33m,\u001b[0m\u001b[1;36m1\u001b[0m\u001b[1;33m]\u001b[0m\u001b[1;33m,\u001b[0m\u001b[1;33m[\u001b[0m\u001b[1;36m0\u001b[0m\u001b[1;33m,\u001b[0m\u001b[1;36m0\u001b[0m\u001b[1;33m,\u001b[0m\u001b[1;36m1\u001b[0m\u001b[1;33m,\u001b[0m\u001b[1;36m1\u001b[0m\u001b[1;33m]\u001b[0m\u001b[1;33m,\u001b[0m\u001b[1;33m[\u001b[0m\u001b[1;36m0\u001b[0m\u001b[1;33m,\u001b[0m\u001b[1;36m1\u001b[0m\u001b[1;33m,\u001b[0m\u001b[1;36m0\u001b[0m\u001b[1;33m,\u001b[0m\u001b[1;36m0\u001b[0m\u001b[1;33m]\u001b[0m\u001b[1;33m,\u001b[0m\u001b[1;33m[\u001b[0m\u001b[1;36m1\u001b[0m\u001b[1;33m,\u001b[0m\u001b[1;36m1\u001b[0m\u001b[1;33m,\u001b[0m\u001b[1;36m1\u001b[0m\u001b[1;33m,\u001b[0m\u001b[1;36m1\u001b[0m\u001b[1;33m]\u001b[0m\u001b[1;33m,\u001b[0m\u001b[1;33m[\u001b[0m\u001b[1;36m1\u001b[0m\u001b[1;33m,\u001b[0m\u001b[1;36m1\u001b[0m\u001b[1;33m,\u001b[0m\u001b[1;36m0\u001b[0m\u001b[1;33m,\u001b[0m\u001b[1;36m1\u001b[0m\u001b[1;33m]\u001b[0m\u001b[1;33m]\u001b[0m\u001b[1;33m\u001b[0m\u001b[1;33m\u001b[0m\u001b[0m\n\u001b[0;32m      3\u001b[0m \u001b[0mpd\u001b[0m\u001b[1;33m.\u001b[0m\u001b[0mDataFrame\u001b[0m\u001b[1;33m(\u001b[0m\u001b[0mdata\u001b[0m\u001b[1;33m,\u001b[0m \u001b[0mcolumns\u001b[0m\u001b[1;33m=\u001b[0m\u001b[1;33m[\u001b[0m \u001b[1;34m\"Bread\"\u001b[0m\u001b[1;33m,\u001b[0m\u001b[1;34m\"Jam\"\u001b[0m\u001b[1;33m,\u001b[0m\u001b[1;34m\"Butter\"\u001b[0m\u001b[1;33m,\u001b[0m\u001b[1;34m\"Eggs\"\u001b[0m\u001b[1;33m]\u001b[0m\u001b[1;33m)\u001b[0m\u001b[1;33m\u001b[0m\u001b[1;33m\u001b[0m\u001b[0m\n",
      "\u001b[1;31mModuleNotFoundError\u001b[0m: No module named 'pandas'"
     ]
    }
   ],
   "source": [
    "import pandas as pd\n",
    "data = [[1, 1,1,1], [1,0,1,1],[0,0,1,1],[0,1,0,0],[1,1,1,1],[1,1,0,1]]\n",
    "pd.DataFrame(data, columns=[ \"Bread\",\"Jam\",\"Butter\",\"Eggs\"])"
   ]
  },
  {
   "cell_type": "markdown",
   "metadata": {},
   "source": [
    "We can find multiple rules from this scenario. For example, in a transaction of Bread,Jam and Butter if Bread and jam are bought, then customers also buy Butter.\n",
    "\n",
    "i.e:\n",
    "\n",
    "{Bread,Jam} --> {Butter}"
   ]
  },
  {
   "cell_type": "markdown",
   "metadata": {},
   "source": [
    "### <span style='color:Red'>In order to select the interesting rules out of multiple possible rules from this small business scenario, we will be using the following measures:\n",
    "\n",
    "--<span style='color:Blue'>Support\n",
    "\n",
    "--<span style='color:Blue'>Confidence\n",
    "\n",
    "--<span style='color:Blue'>List\n",
    "\n",
    "--<span style='color:Blue'>Conviction\n",
    "\n",
    "Lets look at them in detail."
   ]
  },
  {
   "cell_type": "markdown",
   "metadata": {},
   "source": [
    "### <span style='color:Red'> Support\n",
    "<span style='background :#fffba8' >Support of the item x is nothing but the ratio of the number of transactions in which the item x appears to the total number of transactions.\n",
    "\n",
    "Look at the table:\n",
    "\n",
    "Support(Bread) = Number of transcations in which bread appers / Total number of transcations\n",
    "\n",
    "##### Support(Bread)=4/6\n",
    "\n"
   ]
  },
  {
   "cell_type": "markdown",
   "metadata": {},
   "source": [
    "# ----------------------------------------------------------------"
   ]
  },
  {
   "cell_type": "markdown",
   "metadata": {},
   "source": [
    "### <span style='color:Red'>  Confidence\n",
    "\n",
    "<span style='background :#fffba8' >Confidence (x => y) signifies the likelihood of the item y being purchased when the item x is purchased. This method takes into account the popularity of the item x.\n",
    "\n",
    "From the table:\n",
    "The confidence that a person would buy Butter if they have bought Bread and jam is:\n",
    "Conf({bread, jam} => {butter})= support(bread, jam,butter) / support(bread, jam)\n",
    "\n",
    "##### Conf({bread, jam} => {butter} =(2/6) / (3/6)\n"
   ]
  },
  {
   "cell_type": "markdown",
   "metadata": {},
   "source": [
    "# ----------------------------------------------------------------"
   ]
  },
  {
   "cell_type": "markdown",
   "metadata": {},
   "source": [
    "###  <span style='color:Red'> Lift\n",
    "\n",
    "<span style='background :#fffba8' >Lift (x => y) is nothing but the likelihood of the item y being purchased when the item x is sold. Unlike confidence (x => y), this method takes into account the popularity of the item y.\n",
    "\n",
    "FROM THE TABLE:\n",
    "lift({bread, jam} => {butter})= support(bread, jam,butter) / support(bread, jam)\n",
    "\n",
    "\n",
    "##### lift({bread, jam} => {butter} =(2/6) / ((3/6) + (4/6))\n"
   ]
  },
  {
   "cell_type": "markdown",
   "metadata": {},
   "source": [
    "Lift (x => y) = 1 means that there is no correlation within the itemset.\n",
    "\n",
    "Lift (x => y) > 1 means that there is a positive correlation within the itemset, i.e., products in the itemset, x and y, are more likely to be bought together.\n",
    "\n",
    "Lift (x => y) < 1 means that there is a negative correlation within the itemset, i.e., products in itemset, x and y, are unlikely to be bought together."
   ]
  },
  {
   "cell_type": "markdown",
   "metadata": {},
   "source": [
    "### <span style='color:Red'>Conviction"
   ]
  },
  {
   "cell_type": "markdown",
   "metadata": {},
   "source": [
    "conv(x => y) =1-supp(y)/(1-conf(x=>y))\n",
    "\n",
    "conv({bread,jam} => {butter} )=1-supp(butter) / (1-Conf({bread, jam} => {butter} )= 1-4/6/(1-2/3)=1\n"
   ]
  },
  {
   "cell_type": "markdown",
   "metadata": {},
   "source": [
    "Its value range is [0, +∞].\n",
    "\n",
    "Conv(x => y) = 1 means that x has no relation with y.\n",
    "\n",
    "Greater the conviction higher the interest in the rule."
   ]
  },
  {
   "cell_type": "markdown",
   "metadata": {},
   "source": [
    "# ----------------------------------------------------------------"
   ]
  },
  {
   "cell_type": "markdown",
   "metadata": {},
   "source": [
    "<span style='background :#fffba8' >{Bread,Jam , Butter} is the only significant itemset we have got from the given data. But in real-world scenarios, we would have dozens of items to build rules from. Then, we might have to make four/five-pair itemsets.\n",
    "\n",
    "To understand how the item set is found refer to the below article\n",
    "https://intellipaat.com/blog/data-science-apriori-algorithm/"
   ]
  },
  {
   "cell_type": "markdown",
   "metadata": {},
   "source": [
    "## <span style='color:Blue'>Steps Involved in Apriori Algorithm"
   ]
  },
  {
   "cell_type": "markdown",
   "metadata": {},
   "source": [
    "Set a minimum value for support and confidence. This means that we are only interested in finding rules for the items that have certain default existence (e.g. support) and have a minimum value for co-occurrence with other items (e.g. confidence).\n",
    "\n",
    "Extract all the subsets having higher value of support than minimum threshold.\n",
    "\n",
    "Select all the rules from the subsets with confidence value higher than minimum threshold.\n",
    "\n",
    "Order the rules by descending order of Lift."
   ]
  },
  {
   "cell_type": "markdown",
   "metadata": {},
   "source": [
    "READ THE FOLLOWING ARTICLE TO GET A BETTER UNDERSTANDING OF RULES AND IMPLEMENTATION:\n",
    "\n",
    "https://stackabuse.com/association-rule-mining-via-apriori-algorithm-in-python"
   ]
  },
  {
   "cell_type": "markdown",
   "metadata": {},
   "source": [
    "REFER THE FOLLOWING ARTICLES FOR UNDERSTANDING THE ALGORITHM BETTER:\n",
    "\n",
    "https://www.kdnuggets.com/2019/12/market-basket-analysis.html\n",
    "https://analyticsindiamag.com/hands-on-guide-to-market-basket-analysis-with-python-codes/\n",
    "\n",
    "https://towardsdatascience.com/apriori-association-rule-mining-explanation-and-python-implementation-290b42afdfc6\n",
    "\n",
    "\n"
   ]
  },
  {
   "cell_type": "markdown",
   "metadata": {},
   "source": [
    "# ----------------------------------------------------------------"
   ]
  },
  {
   "cell_type": "markdown",
   "metadata": {},
   "source": [
    "# APRIORI"
   ]
  },
  {
   "cell_type": "markdown",
   "metadata": {},
   "source": [
    "## <span style='color:Blue'>Now let's take a real world dataset and apply the algorithm to do the market basket analysis."
   ]
  },
  {
   "cell_type": "code",
   "execution_count": null,
   "metadata": {},
   "outputs": [],
   "source": [
    "import numpy as np # linear algebra\n",
    "import pandas as pd # data processing\n",
    "import plotly.express as px\n",
    "\n",
    "import matplotlib as plt"
   ]
  },
  {
   "cell_type": "code",
   "execution_count": null,
   "metadata": {},
   "outputs": [],
   "source": [
    "!pip install apyori"
   ]
  },
  {
   "cell_type": "code",
   "execution_count": null,
   "metadata": {},
   "outputs": [],
   "source": [
    "\n",
    "import apyori\n",
    "from apyori import apriori"
   ]
  },
  {
   "cell_type": "code",
   "execution_count": null,
   "metadata": {
    "scrolled": true
   },
   "outputs": [],
   "source": [
    "data = pd.read_csv(\"https://raw.githubusercontent.com/amankharwal/Website-data/master/Groceries_dataset.csv\")\n",
    "data.head()"
   ]
  },
  {
   "cell_type": "markdown",
   "metadata": {},
   "source": [
    "The above dataset is that of a grocery store, we can see that the dataset has three columns the member_number (The is of the person who bought the item), Date of purchase and the description of the item."
   ]
  },
  {
   "cell_type": "code",
   "execution_count": null,
   "metadata": {},
   "outputs": [],
   "source": [
    "data.info()"
   ]
  },
  {
   "cell_type": "markdown",
   "metadata": {},
   "source": [
    "We can see that there are 38765 rows in the dataset"
   ]
  },
  {
   "cell_type": "code",
   "execution_count": null,
   "metadata": {},
   "outputs": [],
   "source": [
    "data.isna().sum()"
   ]
  },
  {
   "cell_type": "markdown",
   "metadata": {},
   "source": [
    "We can see that there are no null values in any of the columns in the dataset, this makes analysis easier."
   ]
  },
  {
   "cell_type": "markdown",
   "metadata": {},
   "source": [
    "### <span style='color:Blue'> Now let's look at the top selling products as well as the least selling products in the dataset."
   ]
  },
  {
   "cell_type": "code",
   "execution_count": null,
   "metadata": {},
   "outputs": [],
   "source": [
    "#Let's split up this line of code, we first count the occurances of each item in the dataset, then sort the value in asending order and filter out the first 10 items, this would be the top 10 selling items\n",
    "x = data['itemDescription'].value_counts().sort_values(ascending=False)[:10]"
   ]
  },
  {
   "cell_type": "code",
   "execution_count": null,
   "metadata": {},
   "outputs": [],
   "source": [
    "print(\"Top 10 frequently sold products\")\n",
    "\n",
    "fig = px.bar(x= x.index, y= x.values)\n",
    "fig.update_layout(title_text= \"Top 10 frequently sold products \", xaxis_title= \"Products\", yaxis_title=\"Number of item sold\")\n",
    "fig.show()"
   ]
  },
  {
   "cell_type": "markdown",
   "metadata": {},
   "source": [
    "--><span style='background :#fffba8' > We can see that whole milk has the highet count (nearly 2500), followed by vegetables(almost 1800)"
   ]
  },
  {
   "cell_type": "code",
   "execution_count": null,
   "metadata": {},
   "outputs": [],
   "source": [
    "#Now let's look at the 10 least selling products\n",
    "#The only change in code would be to not sort the values in descending order\n",
    "\n",
    "y = data['itemDescription'].value_counts().sort_values(ascending=True)[:10]"
   ]
  },
  {
   "cell_type": "code",
   "execution_count": null,
   "metadata": {
    "scrolled": true
   },
   "outputs": [],
   "source": [
    "print(\"10 least frequently sold products\")\n",
    "\n",
    "fig = px.bar(x= y.index, y= y.values)\n",
    "fig.update_layout(title_text= \"10 least frequently sold products \", xaxis_title= \"Products\", yaxis_title=\"Number of item sold\")\n",
    "fig.show()"
   ]
  },
  {
   "cell_type": "markdown",
   "metadata": {},
   "source": [
    "--><span style='color:Blue'> We can see that preservation products are the least sold item followed by kitchen utensils."
   ]
  },
  {
   "cell_type": "markdown",
   "metadata": {},
   "source": [
    "<span style='background :#fffba8' >Let's create a dataframe by counting the number of times each customer has made a purchase. Then sort that in descending order and filter out the first 10 values, these are the ids of the customers that has made the most purchases."
   ]
  },
  {
   "cell_type": "code",
   "execution_count": null,
   "metadata": {},
   "outputs": [],
   "source": [
    "pd.DataFrame(data['Member_number'].value_counts().sort_values(ascending=False))[:10]"
   ]
  },
  {
   "cell_type": "markdown",
   "metadata": {},
   "source": [
    "<span style='color:Blue'>We can see that customer with id 3180 has made the most purchases (36) followed by 3050,2051,3737 buying 33 items each."
   ]
  },
  {
   "cell_type": "markdown",
   "metadata": {},
   "source": [
    "### <span style='color:Blue'>Let's find the dates on which highest sale was made."
   ]
  },
  {
   "cell_type": "code",
   "execution_count": null,
   "metadata": {},
   "outputs": [],
   "source": [
    "#Let's create few new column by modifying the date column in the dataframe\n",
    "\n",
    "#Filtering out the year value from the date by splitting the date on - which gives a list and then taking out the last value which is the year value\n",
    "data[\"Year\"] = data['Date'].str.split(\"-\").str[-1]\n",
    "\n",
    "#Creating a new column in Month-Year format by splitting the date by - and filtering out the second and last value from the list which belongs to month and year respectively\n",
    "data[\"Month-Year\"] = data['Date'].str.split(\"-\").str[1] + \"-\" + data['Date'].str.split(\"-\").str[-1]"
   ]
  },
  {
   "cell_type": "code",
   "execution_count": null,
   "metadata": {},
   "outputs": [],
   "source": [
    "#Plotting a bar graph with number of sales in each  month of each year\n",
    "fig1 = px.bar(data[\"Month-Year\"].value_counts(ascending=False), \n",
    "              orientation= \"v\", \n",
    "              color = data[\"Month-Year\"].value_counts(ascending=False),\n",
    "              \n",
    "               labels={'value':'Count', 'index':'Date','color':'Meter'})\n",
    "\n",
    "fig1.update_layout(title_text=\"Exploring highest sales by  date\")\n",
    "\n",
    "fig1.show()"
   ]
  },
  {
   "cell_type": "markdown",
   "metadata": {},
   "source": [
    "<span style='color:Blue'>We can see that most of the sales is during the months of August and september and the least sales take place in February and March."
   ]
  },
  {
   "cell_type": "markdown",
   "metadata": {},
   "source": [
    "# ----------------------------------------------------------------"
   ]
  },
  {
   "cell_type": "markdown",
   "metadata": {},
   "source": [
    "## <span style='color:Blue'> Implementation of Apriori Algorithm"
   ]
  },
  {
   "cell_type": "markdown",
   "metadata": {},
   "source": [
    "Creating a list of names of unique products present in the itemDescription column"
   ]
  },
  {
   "cell_type": "code",
   "execution_count": null,
   "metadata": {},
   "outputs": [],
   "source": [
    "products = data['itemDescription'].unique()"
   ]
  },
  {
   "cell_type": "code",
   "execution_count": null,
   "metadata": {
    "scrolled": true
   },
   "outputs": [],
   "source": [
    "products[:10]"
   ]
  },
  {
   "cell_type": "markdown",
   "metadata": {},
   "source": [
    "### One hot encoding"
   ]
  },
  {
   "cell_type": "markdown",
   "metadata": {},
   "source": [
    "If you are a data scientist it is impossible to not hear the term one hot encoding, lets understand in detail what one hot encoding actually is.Before understanding one hot encoding, we need to uderstand what categorical data is, let's start from there.\n",
    "#### <span style='color:Blue'> What is categorical data?\n",
    "<span style='background :#fffba8' >Categorical data are variables that contain label values rather than numeric values.\n",
    "example:\n",
    "    name of pets (casts,dogs,birds) etc\n",
    "    \n",
    "    \n",
    "\n"
   ]
  },
  {
   "cell_type": "markdown",
   "metadata": {},
   "source": [
    "#### <span style='color:Blue'>What is categorical data?\n",
    "    \n",
    "<span style='background :#fffba8' >    Categorical data are variables that contain label values rather than numeric values.\n",
    "\n",
    "<span style='color:orange'>Another important question, what is the issue with categorical data? why should we convert it to numerical values in the first place?\n",
    "\n",
    "Many machine learning algorithms cannot operate on label data directly. They require all input variables and output variables to be numeric.\n",
    "\n",
    "\n",
    "This means that categorical data must be converted to a numerical form.This means that any categorical data must be mapped to integers.\n",
    "\n",
    "One hot encoding is one method of converting data to prepare it for an algorithm and get a better prediction. With one-hot, we convert each categorical value into a new categorical column and assign a binary value of 1 or 0 to those columns. "
   ]
  },
  {
   "cell_type": "markdown",
   "metadata": {},
   "source": [
    "#### <span style='color:Blue'>How to convert categorical data to numerical data?\n",
    "<span style='color:Orange'>One way to do so is One-Hot-Encoding\n",
    "\n",
    "One hot encoding is a process by which categorical variables are converted into a form that could be provided to ML algorithms to do a better job in prediction.\n",
    "\n",
    "One hot encoding is useful for data that has no relationship to each other. Machine learning algorithms treat the order of numbers as an attribute of significance. In other words, they will read a higher number as better or more important than a lower number.\n",
    "\n",
    "While this is helpful for some ordinal situations, some input data does not have any ranking for category values, and this can lead to issues with predictions and poor performance. That’s when one hot encoding saves the day.\n",
    "\n",
    "One hot encoding makes our training data more useful and expressive, and it can be rescaled easily. By using numeric values, we more easily determine a probability for our values."
   ]
  },
  {
   "cell_type": "markdown",
   "metadata": {},
   "source": [
    "<span style='color:Blue'>Refer the links below for better understanding :\n",
    "\n",
    "https://www.educative.io/blog/one-hot-encoding\n",
    "https://machinelearningmastery.com/why-one-hot-encode-data-in-machine-learning/\n",
    "https://hackernoon.com/what-is-one-hot-encoding-why-and-when-do-you-have-to-use-it-e3c6186d008f"
   ]
  },
  {
   "cell_type": "code",
   "execution_count": null,
   "metadata": {},
   "outputs": [],
   "source": [
    "#For modelling and finding the relationship between products we need to be working with numerical values, so let's one hot encode the products\n",
    "data1=data.copy()\n",
    "one_hot = pd.get_dummies(data1['itemDescription'])\n",
    "data1.drop(['itemDescription'], inplace =True, axis=1)\n",
    "\n",
    "data1 = data1.join(one_hot)\n",
    "\n",
    "data1.head()"
   ]
  },
  {
   "cell_type": "code",
   "execution_count": null,
   "metadata": {},
   "outputs": [],
   "source": [
    "#Group the data based on Member_number and then by date and computing the sum by products using the products in the earlier created project list."
   ]
  },
  {
   "cell_type": "code",
   "execution_count": null,
   "metadata": {},
   "outputs": [],
   "source": [
    "data2 = data1.groupby(['Member_number', 'Date'])[products[:]].sum()\n",
    "\n",
    "data2.head(3)"
   ]
  },
  {
   "cell_type": "code",
   "execution_count": null,
   "metadata": {
    "scrolled": true
   },
   "outputs": [],
   "source": [
    "#Reset the index of the newly formed dataset.\n",
    "data2 = data2.reset_index()[products]\n",
    "data2.head()"
   ]
  },
  {
   "cell_type": "code",
   "execution_count": null,
   "metadata": {},
   "outputs": [],
   "source": [
    "#Create a function product_names which takes some data and for each product in the data, if the value of that product in the data is more than zero, then replace the value with the product name from the product list."
   ]
  },
  {
   "cell_type": "code",
   "execution_count": null,
   "metadata": {},
   "outputs": [],
   "source": [
    "def product_names(x):\n",
    "    for product in products:\n",
    "        if x[product] >0:\n",
    "            x[product] = product\n",
    "    return x\n",
    "#Apply the created function on data2 dataset.\n",
    "data2 = data2.apply(product_names, axis=1)\n",
    "data2.head()"
   ]
  },
  {
   "cell_type": "code",
   "execution_count": null,
   "metadata": {},
   "outputs": [],
   "source": [
    "\n",
    "#Filter out the values from the data frame data2\n",
    "x = data2.values\n",
    "#Convert into list values in each row if value is not zero\n",
    "x = [sub[~(sub==0)].tolist() for sub in x if sub [sub != 0].tolist()]\n",
    "transactions = x\n",
    "transactions[0:10]"
   ]
  },
  {
   "cell_type": "markdown",
   "metadata": {},
   "source": [
    "<span style='color:Blue'>The apriori instance takes data as list that is why the above process is required."
   ]
  },
  {
   "cell_type": "code",
   "execution_count": null,
   "metadata": {},
   "outputs": [],
   "source": [
    "#Now we have to figure out various assosiations between items in the dataset\n",
    "#Create an apriori instance\n",
    "#Make a list out of the associations\n",
    "\n",
    "associations = apriori(transactions, min_support = 0.00030, min_confidence = 0.05, min_lift = 3, max_length = 2, target = \"associations\")\n",
    "association_results = list(associations)\n",
    "print(association_results[0])"
   ]
  },
  {
   "cell_type": "markdown",
   "metadata": {},
   "source": [
    "Parameters\n",
    "\n",
    "=>=>=>=>=>=>=>=>=>\n",
    "\n",
    "min_support: The minimum support of relations (float)\n",
    "\n",
    "min_confidence: The minimum confidence of relations (float\n",
    "\n",
    "min_lift: The minimum lift of relations (float)\n",
    "\n",
    "min_length: The minimum number of items in a rule\n",
    "\n",
    "max_length: The maximum number of items in a rule"
   ]
  },
  {
   "cell_type": "markdown",
   "metadata": {},
   "source": [
    "<span style='background :#fffba8' >Now let us observe each itemset, and separately print the support, confidence and list values of each itemset."
   ]
  },
  {
   "cell_type": "code",
   "execution_count": null,
   "metadata": {},
   "outputs": [],
   "source": [
    "#iterate through the list of associations and for each item\n",
    "for item in association_results:\n",
    "    \n",
    "    #for each item filter out the item pair and create item list containing individual items in the itemset\n",
    "    itemset = item[0]\n",
    "    items = [x for x in itemset]\n",
    "    \n",
    "    #Print the relationship( First value in items to second value in items)\n",
    "    print(\"Rule : \", items[0], \" -> \" + items[1])\n",
    "    \n",
    "    #Print support,confidence and lift value of each itemset\n",
    "    print(\"Support : \", str(item[1]))\n",
    "    print(\"Confidence : \",str(item[2][0][2]))\n",
    "    print(\"Lift : \", str(item[2][0][3]))\n",
    "    \n",
    "    print(\"=>=>=>=>=>=>=>=>=>=>=>=>=>=>=>=>=>=>=>=>\") "
   ]
  },
  {
   "cell_type": "markdown",
   "metadata": {},
   "source": [
    "# ----------------------------------------------------------------"
   ]
  },
  {
   "cell_type": "markdown",
   "metadata": {},
   "source": [
    "APRIORI DOCUMENTATION \n",
    "\n",
    "https://www.rdocumentation.org/packages/arules/versions/1.6-8/topics/apriori"
   ]
  },
  {
   "cell_type": "code",
   "execution_count": null,
   "metadata": {},
   "outputs": [],
   "source": []
  }
 ],
 "metadata": {
  "kernelspec": {
   "display_name": "Python 3",
   "language": "python",
   "name": "python3"
  },
  "language_info": {
   "codemirror_mode": {
    "name": "ipython",
    "version": 3
   },
   "file_extension": ".py",
   "mimetype": "text/x-python",
   "name": "python",
   "nbconvert_exporter": "python",
   "pygments_lexer": "ipython3",
   "version": "3.7.4"
  }
 },
 "nbformat": 4,
 "nbformat_minor": 4
}
